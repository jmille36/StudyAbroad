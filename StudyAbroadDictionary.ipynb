{
 "cells": [
  {
   "cell_type": "code",
   "execution_count": 1,
   "metadata": {
    "collapsed": true
   },
   "outputs": [],
   "source": [
    "study_abroad_dict = {\n",
    "    1: {\n",
    "        'academic_year_requirements': ['sophomore', 'junior', 'senior'], \n",
    "        'major_requirements': ['Bioengineering', 'Chemical Engineering', 'Civil Engineering', 'Computer Engineering',\n",
    "                             'Computer Science', 'Electrical Engineering', 'Fire Protection Engineering',\n",
    "                             'Materials Science & Engineering', 'Mechanical Engineering'],\n",
    "        'minimum_GPA': 3.0,\n",
    "        'purpose': 'academic',\n",
    "        'region': ['Madrid', 'Spain', 'Europe'],\n",
    "        'second_languages': ['Spanish'],\n",
    "        'cost': (17050, 18650),\n",
    "        'housing': ['host', 'apartment'],\n",
    "        'extracurricular': [],\n",
    "        'program_season': ['Fall', 'Spring'],\n",
    "        'program_duration': 'semester',\n",
    "        'credits': ['transfer']\n",
    "        },\n",
    "    3: {\n",
    "        'academic_year_requirements': ['sophomore', 'junior', 'senior'],\n",
    "        'major_requirements': [],\n",
    "        'minimum_GPA': 3.0,\n",
    "        'purpose': 'internship',\n",
    "        'region': ['Seoul', 'South Korea', 'Asia'],\n",
    "        'second_languages': ['Korean'],\n",
    "        'cost': (17025.50, 28629),\n",
    "        'housing': ['dorm'],\n",
    "        'extracurricular': ['aquatic sports','career development'],\n",
    "        'program_season': ['Spring'],\n",
    "        'program_duration': 'semester',\n",
    "        'credits': ['transfer', 'resident']\n",
    "        }\n",
    "}\n",
    "\n",
    "study_abroad_locations = {\n",
    "    1: 'Clark-in-Madrid (Spain) - Semester',\n",
    "    2: 'Clark-in-Madrid (Spain) - Full Year',\n",
    "    3: 'Global Entrepreneurship Semester in Seoul',\n",
    "    4: 'Maryland-in-Berlin (Germany) - Semester',\n",
    "    5: 'Maryland-in-Berlin (Germany) - Full Year'\n",
    "}"
   ]
  },
  {
   "cell_type": "code",
   "execution_count": 2,
   "metadata": {},
   "outputs": [
    {
     "name": "stdout",
     "output_type": "stream",
     "text": [
      "Clark-in-Madrid (Spain) - Semester\n",
      "Global Entrepreneurship Semester in Seoul\n"
     ]
    }
   ],
   "source": [
    "# accessing full program name of key\n",
    "for k in study_abroad_dict: \n",
    "    print(study_abroad_locations[k])"
   ]
  },
  {
   "cell_type": "code",
   "execution_count": 3,
   "metadata": {},
   "outputs": [
    {
     "data": {
      "text/plain": [
       "{'academic_year_requirements': ['sophomore', 'junior', 'senior'],\n",
       " 'cost': (17050, 18650),\n",
       " 'credits': ['transfer'],\n",
       " 'extracurricular': [],\n",
       " 'housing': ['host', 'apartment'],\n",
       " 'major_requirements': ['Bioengineering',\n",
       "  'Chemical Engineering',\n",
       "  'Civil Engineering',\n",
       "  'Computer Engineering',\n",
       "  'Computer Science',\n",
       "  'Electrical Engineering',\n",
       "  'Fire Protection Engineering',\n",
       "  'Materials Science & Engineering',\n",
       "  'Mechanical Engineering'],\n",
       " 'minimum_GPA': 3.0,\n",
       " 'program_duration': 'semester',\n",
       " 'program_season': ['Fall', 'Spring'],\n",
       " 'purpose': 'academic',\n",
       " 'region': ['Madrid', 'Spain', 'Europe'],\n",
       " 'second_languages': ['Spanish']}"
      ]
     },
     "execution_count": 3,
     "metadata": {},
     "output_type": "execute_result"
    }
   ],
   "source": [
    "# accessing a row\n",
    "study_abroad_dict[1]"
   ]
  },
  {
   "cell_type": "code",
   "execution_count": 4,
   "metadata": {},
   "outputs": [
    {
     "name": "stdout",
     "output_type": "stream",
     "text": [
      "['sophomore', 'junior', 'senior']\n"
     ]
    }
   ],
   "source": [
    "# accessing a cell\n",
    "print(study_abroad_dict[1]['academic_year_requirements'])"
   ]
  }
 ],
 "metadata": {
  "kernelspec": {
   "display_name": "Python 3",
   "language": "python",
   "name": "python3"
  },
  "language_info": {
   "codemirror_mode": {
    "name": "ipython",
    "version": 3
   },
   "file_extension": ".py",
   "mimetype": "text/x-python",
   "name": "python",
   "nbconvert_exporter": "python",
   "pygments_lexer": "ipython3",
   "version": "3.6.3"
  }
 },
 "nbformat": 4,
 "nbformat_minor": 2
}
